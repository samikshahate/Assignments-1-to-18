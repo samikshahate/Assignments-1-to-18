{
 "cells": [
  {
   "cell_type": "markdown",
   "id": "c40bf84b",
   "metadata": {},
   "source": [
    "# Clustering-Hierarchical "
   ]
  },
  {
   "cell_type": "code",
   "execution_count": 1,
   "id": "b3a535c6",
   "metadata": {},
   "outputs": [],
   "source": [
    "# Import Libraries\n",
    "import pandas as pd\n",
    "import numpy as np\n",
    "import matplotlib.pyplot as plt\n",
    "import scipy.cluster.hierarchy as sch\n",
    "from sklearn.cluster import AgglomerativeClustering\n",
    "from sklearn.preprocessing import normalize"
   ]
  },
  {
   "cell_type": "code",
   "execution_count": 2,
   "id": "0605b426",
   "metadata": {},
   "outputs": [],
   "source": [
    "#Import dataset\n",
    "crime = pd.read_csv('crime_data.csv')\n",
    "crime"
   ]
  },
  {
   "cell_type": "code",
   "execution_count": 3,
   "id": "9a5eea62",
   "metadata": {},
   "outputs": [],
   "source": [
    "crime.info()"
   ]
  },
  {
   "cell_type": "code",
   "execution_count": 4,
   "id": "39c994fa",
   "metadata": {},
   "outputs": [],
   "source": [
    "crime2 = crime.drop(['Unnamed: 0'],axis=1)\n",
    "crime2"
   ]
  },
  {
   "cell_type": "code",
   "execution_count": 5,
   "id": "c545325a",
   "metadata": {},
   "outputs": [],
   "source": [
    "# Normalize heterogenous numerical data \n",
    "crime2_norm = pd.DataFrame(normalize(crime2),columns=crime2.columns)\n",
    "crime2_norm"
   ]
  },
  {
   "cell_type": "code",
   "execution_count": 6,
   "id": "296095d0",
   "metadata": {},
   "outputs": [],
   "source": [
    "#creat Dendograms\n",
    "plt.figure(figsize=(10,7))\n",
    "dendograms = sch.dendrogram(sch.linkage(crime2_norm,'complete'))"
   ]
  },
  {
   "cell_type": "code",
   "execution_count": 7,
   "id": "ccd02847",
   "metadata": {},
   "outputs": [],
   "source": [
    "#Creat Clusters (y)\n",
    "hclusters=AgglomerativeClustering(n_clusters=5,affinity='euclidean',linkage='ward')\n",
    "hclusters"
   ]
  },
  {
   "cell_type": "code",
   "execution_count": 8,
   "id": "102deec7",
   "metadata": {},
   "outputs": [],
   "source": [
    "y = pd.DataFrame(hclusters.fit_predict(crime2_norm),columns=['clustersid'])\n",
    "y['clustersid'].value_counts()"
   ]
  },
  {
   "cell_type": "code",
   "execution_count": 9,
   "id": "a971d4c2",
   "metadata": {},
   "outputs": [],
   "source": [
    "#Adding clusters to dataset\n",
    "crime2['clustersid']= hclusters.labels_\n",
    "crime2"
   ]
  },
  {
   "cell_type": "code",
   "execution_count": 10,
   "id": "446482db",
   "metadata": {},
   "outputs": [],
   "source": [
    "crime2.groupby('clustersid').agg(['mean']).reset_index()"
   ]
  },
  {
   "cell_type": "code",
   "execution_count": 11,
   "id": "3be201c2",
   "metadata": {},
   "outputs": [],
   "source": [
    "#Plot Clusters\n",
    "plt.figure(figsize=(10,7))\n",
    "plt.scatter(crime2['clustersid'],crime2['UrbanPop'], c=hclusters.labels_)"
   ]
  },
  {
   "cell_type": "code",
   "execution_count": null,
   "id": "827ca222",
   "metadata": {},
   "outputs": [],
   "source": []
  },
  {
   "cell_type": "code",
   "execution_count": null,
   "id": "c1de6380",
   "metadata": {},
   "outputs": [],
   "source": []
  },
  {
   "cell_type": "code",
   "execution_count": null,
   "id": "9c39ea6d",
   "metadata": {},
   "outputs": [],
   "source": []
  }
 ],
 "metadata": {
  "kernelspec": {
   "display_name": "Python 3 (ipykernel)",
   "language": "python",
   "name": "python3"
  },
  "language_info": {
   "codemirror_mode": {
    "name": "ipython",
    "version": 3
   },
   "file_extension": ".py",
   "mimetype": "text/x-python",
   "name": "python",
   "nbconvert_exporter": "python",
   "pygments_lexer": "ipython3",
   "version": "3.11.3"
  }
 },
 "nbformat": 4,
 "nbformat_minor": 5
}
