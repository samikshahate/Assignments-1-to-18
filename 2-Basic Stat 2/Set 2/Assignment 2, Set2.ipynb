{
 "cells": [
  {
   "cell_type": "markdown",
   "id": "45724190",
   "metadata": {},
   "source": [
    "# Assignment 2 Set_2 Q1\n"
   ]
  },
  {
   "cell_type": "code",
   "execution_count": 1,
   "id": "9fef923d",
   "metadata": {},
   "outputs": [],
   "source": [
    "from scipy import stats\n",
    "from scipy.stats import norm "
   ]
  },
  {
   "cell_type": "code",
   "execution_count": 2,
   "id": "d4dc4328",
   "metadata": {},
   "outputs": [
    {
     "data": {
      "text/plain": [
       "0.625"
      ]
     },
     "execution_count": 2,
     "metadata": {},
     "output_type": "execute_result"
    }
   ],
   "source": [
    "# find Z-scores at X=50; z=(X- µ) / σ \n",
    "z=(50-45)/8\n",
    "z"
   ]
  },
  {
   "cell_type": "code",
   "execution_count": 3,
   "id": "71f175b4",
   "metadata": {},
   "outputs": [
    {
     "data": {
      "text/plain": [
       "0.26598552904870054"
      ]
     },
     "execution_count": 3,
     "metadata": {},
     "output_type": "execute_result"
    }
   ],
   "source": [
    "# find probability P(X<=50) = 1-stats.norm.cdf(abs(z_score))\n",
    "1-stats.norm.cdf(abs(0.625))\n"
   ]
  },
  {
   "cell_type": "code",
   "execution_count": null,
   "id": "01cab1db",
   "metadata": {},
   "outputs": [],
   "source": []
  },
  {
   "cell_type": "markdown",
   "id": "79fbb850",
   "metadata": {},
   "source": [
    "# Q.2\n"
   ]
  },
  {
   "cell_type": "code",
   "execution_count": 4,
   "id": "e144f1b7",
   "metadata": {},
   "outputs": [],
   "source": [
    "# A. More employees at the processing center are older than 44 than between 38 and 44."
   ]
  },
  {
   "cell_type": "code",
   "execution_count": 5,
   "id": "d9d8d002",
   "metadata": {},
   "outputs": [
    {
     "data": {
      "text/plain": [
       "0.15865525393145707"
      ]
     },
     "execution_count": 5,
     "metadata": {},
     "output_type": "execute_result"
    }
   ],
   "source": [
    "# p(X>44); Employees older than 44 years of age\n",
    "1-stats.norm.cdf(44,loc=38,scale=6)"
   ]
  },
  {
   "cell_type": "code",
   "execution_count": 6,
   "id": "8c710fe8",
   "metadata": {},
   "outputs": [
    {
     "data": {
      "text/plain": [
       "0.3413447460685429"
      ]
     },
     "execution_count": 6,
     "metadata": {},
     "output_type": "execute_result"
    }
   ],
   "source": [
    "# p(38<X<44); Employees between 38 to 44 yrs of age\n",
    "stats.norm.cdf(44,38,6)- stats.norm.cdf(38,38,6)"
   ]
  },
  {
   "cell_type": "code",
   "execution_count": null,
   "id": "b1546d49",
   "metadata": {},
   "outputs": [],
   "source": []
  },
  {
   "cell_type": "code",
   "execution_count": 7,
   "id": "862d6d86",
   "metadata": {},
   "outputs": [],
   "source": [
    "# B. A training program for employees under the age of 30 at the center would be expected to attract about 36 employees.\n"
   ]
  },
  {
   "cell_type": "code",
   "execution_count": 8,
   "id": "28d73b52",
   "metadata": {},
   "outputs": [
    {
     "data": {
      "text/plain": [
       "0.09121121972586788"
      ]
     },
     "execution_count": 8,
     "metadata": {},
     "output_type": "execute_result"
    }
   ],
   "source": [
    "# P(X<30;) Employees under 30 years of age\n",
    "stats.norm.cdf(30,38,6)"
   ]
  },
  {
   "cell_type": "code",
   "execution_count": 9,
   "id": "f0c0bb39",
   "metadata": {},
   "outputs": [
    {
     "data": {
      "text/plain": [
       "36.484487890347154"
      ]
     },
     "execution_count": 9,
     "metadata": {},
     "output_type": "execute_result"
    }
   ],
   "source": [
    "# No of employees attending training program from 400 nos. is N*P(X<30)\n",
    "400*stats.norm.cdf(30,38,6)"
   ]
  },
  {
   "cell_type": "code",
   "execution_count": null,
   "id": "d60c966f",
   "metadata": {},
   "outputs": [],
   "source": []
  },
  {
   "cell_type": "markdown",
   "id": "57107f62",
   "metadata": {},
   "source": [
    "# Q3\n"
   ]
  },
  {
   "cell_type": "code",
   "execution_count": 10,
   "id": "7c846f04",
   "metadata": {},
   "outputs": [
    {
     "data": {
      "text/plain": [
       "(48.48341392902199, 151.516586070978)"
      ]
     },
     "execution_count": 10,
     "metadata": {},
     "output_type": "execute_result"
    }
   ],
   "source": [
    "stats.norm.interval(0.99,100,20)"
   ]
  },
  {
   "cell_type": "code",
   "execution_count": null,
   "id": "7751bd3d",
   "metadata": {},
   "outputs": [],
   "source": []
  },
  {
   "cell_type": "markdown",
   "id": "32727ff8",
   "metadata": {},
   "source": [
    "# 5"
   ]
  },
  {
   "cell_type": "code",
   "execution_count": 12,
   "id": "1f9a943a",
   "metadata": {},
   "outputs": [],
   "source": [
    "import pandas as pd\n",
    "import numpy as np\n",
    "import matplotlib.pyplot as plt\n",
    "import seaborn as sns\n",
    "import statsmodels.api as smf\n",
    "import warnings\n",
    "warnings.filterwarnings('ignore')"
   ]
  },
  {
   "cell_type": "code",
   "execution_count": 13,
   "id": "21b66596",
   "metadata": {},
   "outputs": [
    {
     "name": "stdout",
     "output_type": "stream",
     "text": [
      "The Mean Profit of both division: 12 Million$\n",
      "The Mean Profit of both division: 54.0 Crore Rupees\n",
      "The Standard Deviation of both division: 5.0 Million$\n",
      "The Standard Deviation of both division: 22.5 Crore Rupees\n"
     ]
    }
   ],
   "source": [
    "# Combine Mean Profit of both division for Company= mean1 + mean2\n",
    "mean1 = 5\n",
    "mean2 = 7\n",
    "Mean = (mean1+mean2) # 1 USD = 45 rupees\n",
    "print('The Mean Profit of both division:',Mean, 'Million$')\n",
    "print('The Mean Profit of both division:',(Mean*45)/10, 'Crore Rupees')\n",
    "\n",
    "# Combine standard Deviation = (Std1^2 + Std2^2)^1/2\n",
    "std1 = 3**2\n",
    "std2 = 4**2\n",
    "Std = np.sqrt(std1 + std2)\n",
    "print('The Standard Deviation of both division:', Std, 'Million$')\n",
    "print('The Standard Deviation of both division:', (Std*45)/10, 'Crore Rupees')"
   ]
  },
  {
   "cell_type": "code",
   "execution_count": null,
   "id": "e4c03666",
   "metadata": {},
   "outputs": [],
   "source": [
    "#A. Specify a Rupee range (centered on the mean) such that it contains 95% probability for the annual profit of the company."
   ]
  },
  {
   "cell_type": "code",
   "execution_count": 18,
   "id": "615010f9",
   "metadata": {},
   "outputs": [
    {
     "name": "stdout",
     "output_type": "stream",
     "text": [
      "Rupee Ranges from 2.2 to 21.8 Million$ in Annual profit of the Company 95% of the time\n",
      "Rupee Ranges from 9.900000000000002 to 98.1 Crore Rupees in Annual profit of the Company 95% of the time\n"
     ]
    }
   ],
   "source": [
    "r1, r2 = np.round(stats.norm.interval(0.95, Mean, Std),2)\n",
    "print('Rupee Ranges from',r1,'to',r2,'Million$ in Annual profit of the Company 95% of the time')\n",
    "print('Rupee Ranges from',np.divide(np.multiply(r1,45),10),'to',np.divide(np.multiply(r2,45),10),'Crore Rupees in Annual profit of the Company 95% of the time')\n"
   ]
  },
  {
   "cell_type": "code",
   "execution_count": null,
   "id": "03917fd8",
   "metadata": {},
   "outputs": [],
   "source": []
  },
  {
   "cell_type": "code",
   "execution_count": null,
   "id": "8cd107c9",
   "metadata": {},
   "outputs": [],
   "source": [
    "#B. Specify the 5th percentile of profit (in Rupees) for the company"
   ]
  },
  {
   "cell_type": "code",
   "execution_count": 23,
   "id": "d16de4a0",
   "metadata": {},
   "outputs": [
    {
     "name": "stdout",
     "output_type": "stream",
     "text": [
      "The 5th percentile of Profit for the company is 17.0 Crore Rupees\n"
     ]
    }
   ],
   "source": [
    "# Z value  = X_bar - Mew / Std pop \n",
    "# for percentile, X_percentile = (Zvalue * Std pop) + Mew\n",
    "Z_05_ = stats.norm.ppf(0.05)\n",
    "Fifth_percentile = (Z_05_ * Std) + Mean\n",
    "print('The 5th percentile of Profit for the company is',np.round((Fifth_percentile*45)/10,),'Crore Rupees')"
   ]
  },
  {
   "cell_type": "code",
   "execution_count": null,
   "id": "16329ac0",
   "metadata": {},
   "outputs": [],
   "source": []
  },
  {
   "cell_type": "code",
   "execution_count": null,
   "id": "aa033215",
   "metadata": {},
   "outputs": [],
   "source": [
    "#C. Which of the two divisions has a larger probability of making a loss in a given year?"
   ]
  },
  {
   "cell_type": "code",
   "execution_count": 26,
   "id": "291a9d44",
   "metadata": {},
   "outputs": [
    {
     "name": "stdout",
     "output_type": "stream",
     "text": [
      "The Division 1 has a larger Probability of making a loss\n"
     ]
    }
   ],
   "source": [
    "Division_1 = (stats.norm.cdf(0,5,3))*100\n",
    "Division_2 = (stats.norm.cdf(0,7,4))*100\n",
    "\n",
    "if Division_1>Division_2:\n",
    "    print('The Division 1 has a larger Probability of making a loss')\n",
    "else:\n",
    "          print('The Division 2 has a larger Porbability of making a loss')"
   ]
  },
  {
   "cell_type": "code",
   "execution_count": null,
   "id": "fa9eeae8",
   "metadata": {},
   "outputs": [],
   "source": []
  }
 ],
 "metadata": {
  "kernelspec": {
   "display_name": "Python 3 (ipykernel)",
   "language": "python",
   "name": "python3"
  },
  "language_info": {
   "codemirror_mode": {
    "name": "ipython",
    "version": 3
   },
   "file_extension": ".py",
   "mimetype": "text/x-python",
   "name": "python",
   "nbconvert_exporter": "python",
   "pygments_lexer": "ipython3",
   "version": "3.11.3"
  }
 },
 "nbformat": 4,
 "nbformat_minor": 5
}
