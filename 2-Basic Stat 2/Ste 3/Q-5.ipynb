{
 "cells": [
  {
   "cell_type": "markdown",
   "id": "fe1e8f1b",
   "metadata": {},
   "source": [
    "# Assignment 2 Set_02 Q5"
   ]
  },
  {
   "cell_type": "code",
   "execution_count": 1,
   "id": "786cfcbf",
   "metadata": {},
   "outputs": [],
   "source": [
    "import pandas as pd\n",
    "import numpy as np\n",
    "import matplotlib.pyplot as plt\n",
    "import scipy.stats as stats\n",
    "import seaborn as sns\n",
    "import statsmodels.api as smf\n",
    "import warnings\n",
    "warnings.filterwarnings('ignore')"
   ]
  },
  {
   "cell_type": "code",
   "execution_count": 2,
   "id": "8cb9ea47",
   "metadata": {},
   "outputs": [],
   "source": [
    "#null_hypothesis >= 5%\n",
    "#alternate hypothesis < 5%"
   ]
  },
  {
   "cell_type": "code",
   "execution_count": 3,
   "id": "4da583fb",
   "metadata": {},
   "outputs": [],
   "source": [
    "p_hat = 0.046\n",
    "p = 0.05\n",
    "n = 2000"
   ]
  },
  {
   "cell_type": "code",
   "execution_count": 4,
   "id": "e7beaed4",
   "metadata": {},
   "outputs": [
    {
     "data": {
      "text/plain": [
       "-36.706517419289916"
      ]
     },
     "execution_count": 4,
     "metadata": {},
     "output_type": "execute_result"
    }
   ],
   "source": [
    "#z_score = p_hat-p/(p(1-p)/n)**0.5\n",
    "z_score = (p_hat-p)/(np.sqrt(p*(1-p))/n)\n",
    "z_score"
   ]
  },
  {
   "cell_type": "code",
   "execution_count": 5,
   "id": "157e2140",
   "metadata": {},
   "outputs": [
    {
     "data": {
      "text/plain": [
       "0.20582313410777142"
      ]
     },
     "execution_count": 5,
     "metadata": {},
     "output_type": "execute_result"
    }
   ],
   "source": [
    "p_value = stats.norm.sf(0.821)\n",
    "p_value"
   ]
  },
  {
   "cell_type": "code",
   "execution_count": 6,
   "id": "7f42ccc7",
   "metadata": {},
   "outputs": [],
   "source": [
    "#Find Probability assuming null hyposthesis, so as to compare with Type-1 error α = 0.05"
   ]
  },
  {
   "cell_type": "code",
   "execution_count": 7,
   "id": "baeb3431",
   "metadata": {},
   "outputs": [
    {
     "name": "stdout",
     "output_type": "stream",
     "text": [
      "No:Microsoft could not conclude that Mozilla has a less\n",
      "    than 5% share of the market even if the sample were \n",
      "    based on 2,000 users\n"
     ]
    }
   ],
   "source": [
    "if p_value> 0.05:\n",
    "    print(\"\"\"No:Microsoft could not conclude that Mozilla has a less\n",
    "    than 5% share of the market even if the sample were \n",
    "    based on 2,000 users\"\"\")\n",
    "else:\n",
    "    print(\"Yes\")"
   ]
  },
  {
   "cell_type": "code",
   "execution_count": null,
   "id": "a89b5b43",
   "metadata": {},
   "outputs": [],
   "source": []
  },
  {
   "cell_type": "code",
   "execution_count": null,
   "id": "0226a59c",
   "metadata": {},
   "outputs": [],
   "source": []
  },
  {
   "cell_type": "code",
   "execution_count": null,
   "id": "2226643c",
   "metadata": {},
   "outputs": [],
   "source": []
  }
 ],
 "metadata": {
  "kernelspec": {
   "display_name": "Python 3 (ipykernel)",
   "language": "python",
   "name": "python3"
  },
  "language_info": {
   "codemirror_mode": {
    "name": "ipython",
    "version": 3
   },
   "file_extension": ".py",
   "mimetype": "text/x-python",
   "name": "python",
   "nbconvert_exporter": "python",
   "pygments_lexer": "ipython3",
   "version": "3.11.3"
  }
 },
 "nbformat": 4,
 "nbformat_minor": 5
}
